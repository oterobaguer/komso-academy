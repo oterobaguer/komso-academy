{
  "nbformat": 4,
  "nbformat_minor": 0,
  "metadata": {
    "kernelspec": {
      "display_name": "Python 3",
      "language": "python",
      "name": "python3"
    },
    "language_info": {
      "codemirror_mode": {
        "name": "ipython",
        "version": 3
      },
      "file_extension": ".py",
      "mimetype": "text/x-python",
      "name": "python",
      "nbconvert_exporter": "python",
      "pygments_lexer": "ipython3",
      "version": "3.6.8"
    },
    "colab": {
      "name": "Kopie von 01-pytorch-intro.ipynb",
      "provenance": [],
      "collapsed_sections": []
    },
    "accelerator": "GPU"
  },
  "cells": [
    {
      "cell_type": "markdown",
      "metadata": {
        "id": "7bvGuyj6SKMj"
      },
      "source": [
        "# Introduction to PyTorch\n"
      ]
    },
    {
      "cell_type": "markdown",
      "metadata": {
        "id": "Q3dnQsFsSKMj"
      },
      "source": [
        "Python-based scientific computing package for two main purposes:\n",
        "\n",
        "* Replacement for **NumPy** to use the power of GPUs\n",
        "* **Deep learning** research platform that provides maximum flexibility and speed\n",
        "\n",
        "\n",
        "Sources:\n",
        "\n",
        "\n",
        "*   https://towardsdatascience.com/understanding-pytorch-with-an-example-a-step-by-step-tutorial-81fc5f8c4e8e\n",
        "*   https://pytorch.org/tutorials/beginner/blitz/autograd_tutorial.html\n",
        "\n"
      ]
    },
    {
      "cell_type": "code",
      "metadata": {
        "id": "8pYCH-TZxaLH"
      },
      "source": [
        ""
      ],
      "execution_count": null,
      "outputs": []
    },
    {
      "cell_type": "markdown",
      "metadata": {
        "id": "7GTwBGjwxUY2"
      },
      "source": [
        "### 0) NumPy reminder\n"
      ]
    },
    {
      "cell_type": "code",
      "metadata": {
        "id": "T2_ZM0zfxgpb",
        "colab": {
          "base_uri": "https://localhost:8080/"
        },
        "outputId": "920f7b6f-ecec-4de1-e0d7-b04ff6d74aef"
      },
      "source": [
        "import numpy as np\n",
        "\n",
        "x = np.array([2, 3])\n",
        "print(x)\n",
        "y = np.array([4, 9])\n",
        "print(y)\n",
        "\n",
        "print(x + y)\n",
        "print(x * y)\n",
        "\n",
        "print(np.dot(x, y))\n",
        "\n",
        "print(x**2)\n",
        "\n",
        "A = np.array([[2, 3], [4, 5]])\n",
        "print(A)"
      ],
      "execution_count": 15,
      "outputs": [
        {
          "output_type": "stream",
          "name": "stdout",
          "text": [
            "[2 3]\n",
            "[4 9]\n",
            "[ 6 12]\n",
            "[ 8 27]\n",
            "35\n",
            "[4 9]\n",
            "[[2 3]\n",
            " [4 5]]\n"
          ]
        }
      ]
    },
    {
      "cell_type": "code",
      "metadata": {
        "colab": {
          "base_uri": "https://localhost:8080/"
        },
        "id": "V_qGrotZicgR",
        "outputId": "2ecb51d5-4cfe-4968-9370-6ce8b450d298"
      },
      "source": [
        "x = np.random.normal(size=10)\n",
        "print(x)\n",
        "\n",
        "A = np.random.normal(size=(4, 4))\n",
        "print(A)\n",
        "\n",
        "print(A**2)\n",
        "\n",
        "print(np.linalg.inv(A))"
      ],
      "execution_count": 13,
      "outputs": [
        {
          "output_type": "stream",
          "name": "stdout",
          "text": [
            "[-0.07453423 -0.10933101  1.20251042 -1.72139627 -1.19940567  0.46344036\n",
            " -0.2972847   1.34412914 -0.2478103   1.54071879]\n",
            "[[ 0.83664691  0.18575985  1.85184324  0.00741063]\n",
            " [ 1.495911   -0.28976148 -0.2815036  -1.51962417]\n",
            " [-1.21079899 -1.07389169  0.72736856 -0.01076868]\n",
            " [ 1.2300031  -1.02666878 -0.48712738 -2.07507445]]\n",
            "[[6.99978055e-01 3.45067231e-02 3.42932338e+00 5.49174985e-05]\n",
            " [2.23774972e+00 8.39617146e-02 7.92442758e-02 2.30925762e+00]\n",
            " [1.46603421e+00 1.15324335e+00 5.29065021e-01 1.15964405e-04]\n",
            " [1.51290763e+00 1.05404879e+00 2.37293085e-01 4.30593398e+00]]\n",
            "[[  3.4950717  -17.6554693   -7.03936588  12.97851419]\n",
            " [ -4.40134148  23.9810733    8.68454755 -17.62267198]\n",
            " [ -0.61512156   5.6657122    2.34526703  -4.16349739]\n",
            " [  4.3937274  -23.66027148  -9.01993636  16.90754442]]\n"
          ]
        }
      ]
    },
    {
      "cell_type": "markdown",
      "metadata": {
        "id": "vMx5frqYSKMk"
      },
      "source": [
        "### 1) Basic operations"
      ]
    },
    {
      "cell_type": "code",
      "metadata": {
        "id": "XkKj-EOBSKMl",
        "colab": {
          "base_uri": "https://localhost:8080/"
        },
        "outputId": "b3867a61-dce4-43db-f8b8-aa788760c823"
      },
      "source": [
        "import torch\n",
        "\n",
        "x = torch.tensor([3., 4.])\n",
        "y = torch.tensor([5., 9.])\n",
        "\n",
        "print(x + y)\n",
        "print(x - y)\n",
        "print(x ** 2)\n",
        "\n",
        "A = torch.tensor([[2., 3.], [4., 5.]])\n",
        "print(A)\n",
        "\n",
        "print(torch.matmul(A, x))"
      ],
      "execution_count": 3,
      "outputs": [
        {
          "output_type": "stream",
          "name": "stdout",
          "text": [
            "tensor([ 8., 13.])\n",
            "tensor([-2., -5.])\n",
            "tensor([ 9., 16.])\n",
            "tensor([[2., 3.],\n",
            "        [4., 5.]])\n",
            "tensor([18., 32.])\n"
          ]
        }
      ]
    },
    {
      "cell_type": "code",
      "metadata": {
        "colab": {
          "base_uri": "https://localhost:8080/"
        },
        "id": "6nvr5EGzlgyJ",
        "outputId": "e71b8d44-5913-4121-bf58-c0ed473976ca"
      },
      "source": [
        "torch.cuda.is_available()"
      ],
      "execution_count": 6,
      "outputs": [
        {
          "output_type": "execute_result",
          "data": {
            "text/plain": [
              "True"
            ]
          },
          "metadata": {},
          "execution_count": 6
        }
      ]
    },
    {
      "cell_type": "code",
      "metadata": {
        "colab": {
          "base_uri": "https://localhost:8080/"
        },
        "id": "Q7J9RfBhmOt5",
        "outputId": "778f93b3-1479-4f3f-a0fd-7388c3a874b7"
      },
      "source": [
        "print(x)\n",
        "\n",
        "x = x.to('cuda')\n",
        "y = y.to('cuda')\n",
        "\n",
        "print(x + y)"
      ],
      "execution_count": 14,
      "outputs": [
        {
          "output_type": "stream",
          "name": "stdout",
          "text": [
            "tensor([3., 4.], device='cuda:0')\n",
            "tensor([ 8., 13.], device='cuda:0')\n"
          ]
        }
      ]
    },
    {
      "cell_type": "markdown",
      "metadata": {
        "id": "EvNFlvMrSKMo"
      },
      "source": [
        "### 2) Bridge to NumPy"
      ]
    },
    {
      "cell_type": "code",
      "metadata": {
        "id": "84OXjbq_SKMo",
        "colab": {
          "base_uri": "https://localhost:8080/"
        },
        "outputId": "a2084260-036e-498d-a1ce-ed62b92cf764"
      },
      "source": [
        "a = np.array([2, 3])\n",
        "x = torch.from_numpy(a)\n",
        "print(x)\n",
        "print(x.numpy())"
      ],
      "execution_count": 18,
      "outputs": [
        {
          "output_type": "stream",
          "name": "stdout",
          "text": [
            "tensor([2, 3])\n",
            "[2 3]\n"
          ]
        }
      ]
    },
    {
      "cell_type": "markdown",
      "metadata": {
        "id": "3Y-9sMUBSKMr"
      },
      "source": [
        "### 3) Automatic Differentiation\n",
        "\n",
        "Mathematically, if you have a vector valued function $y=f(x)$, then the gradient of $y$  with respect to $x$  is a Jacobian matrix:\n",
        "\n",
        "\\begin{split}J=\\left(\\begin{array}{ccc}\n",
        " \\frac{\\partial y_{1}}{\\partial x_{1}} & \\cdots & \\frac{\\partial y_{1}}{\\partial x_{n}}\\\\\n",
        " \\vdots & \\ddots & \\vdots\\\\\n",
        " \\frac{\\partial y_{m}}{\\partial x_{1}} & \\cdots & \\frac{\\partial y_{m}}{\\partial x_{n}}\n",
        " \\end{array}\\right)\\end{split}\n",
        "\n",
        "Generally speaking, `torch.autograd` is an engine for computing vector-Jacobian product. That is, given any vector $v=\\left(\\begin{array}{cccc} v_{1} & v_{2} & \\cdots & v_{m}\\end{array}\\right)^{T}$  compute the product   $v^{T}\\cdot J$.\n",
        "\n",
        "\n",
        "If $v$ happens to be happens to be the gradient of a scalar function $l = g(y)$, that is $v=\\left(\\begin{array}{ccc}\\frac{\\partial l}{\\partial y_{1}} & \\cdots & \\frac{\\partial l}{\\partial y_{m}}\\end{array}\\right)^{T}$, then by the chain rule, the vector-Jacobian product would be the gradient of $l$ with respect to $x$:\n",
        "\n",
        "\\begin{split}J^{T}\\cdot v=\\left(\\begin{array}{ccc}\n",
        " \\frac{\\partial y_{1}}{\\partial x_{1}} & \\cdots & \\frac{\\partial y_{m}}{\\partial x_{1}}\\\\\n",
        " \\vdots & \\ddots & \\vdots\\\\\n",
        " \\frac{\\partial y_{1}}{\\partial x_{n}} & \\cdots & \\frac{\\partial y_{m}}{\\partial x_{n}}\n",
        " \\end{array}\\right)\\left(\\begin{array}{c}\n",
        " \\frac{\\partial l}{\\partial y_{1}}\\\\\n",
        " \\vdots\\\\\n",
        " \\frac{\\partial l}{\\partial y_{m}}\n",
        " \\end{array}\\right)=\\left(\\begin{array}{c}\n",
        " \\frac{\\partial l}{\\partial x_{1}}\\\\\n",
        " \\vdots\\\\\n",
        " \\frac{\\partial l}{\\partial x_{n}}\n",
        " \\end{array}\\right)\\end{split}\n"
      ]
    },
    {
      "cell_type": "code",
      "metadata": {
        "id": "F8QN3CQFSKMr",
        "colab": {
          "base_uri": "https://localhost:8080/"
        },
        "outputId": "6e9baa40-db89-4fc9-e661-4467c3b41d69"
      },
      "source": [
        "a = torch.tensor([2.0, 3.0], requires_grad=True)\n",
        "b = torch.tensor([3.0, 4.0], requires_grad=True)\n",
        "\n",
        "y = 3*a**3 - b**2\n",
        "print(y)"
      ],
      "execution_count": 26,
      "outputs": [
        {
          "output_type": "stream",
          "name": "stdout",
          "text": [
            "tensor([15., 65.], grad_fn=<SubBackward0>)\n"
          ]
        }
      ]
    },
    {
      "cell_type": "code",
      "metadata": {
        "id": "kC6TRznLqSGj"
      },
      "source": [
        "y.backward(torch.tensor([1.,1.]))"
      ],
      "execution_count": 28,
      "outputs": []
    },
    {
      "cell_type": "code",
      "metadata": {
        "colab": {
          "base_uri": "https://localhost:8080/"
        },
        "id": "9EU_DoX0qbrX",
        "outputId": "14a313c9-c9d4-48eb-f4cb-ae1752a285a0"
      },
      "source": [
        "print(a.grad == 9*a**2)\n",
        "print(b.grad == -2*b)"
      ],
      "execution_count": 29,
      "outputs": [
        {
          "output_type": "stream",
          "name": "stdout",
          "text": [
            "tensor([True, True])\n",
            "tensor([True, True])\n"
          ]
        }
      ]
    },
    {
      "cell_type": "markdown",
      "metadata": {
        "id": "BKX1k9JFSKMt"
      },
      "source": [
        "### 4) Linear regression example"
      ]
    },
    {
      "cell_type": "code",
      "metadata": {
        "id": "TTFx62iBSKMu"
      },
      "source": [
        "x = torch.normal(0, 5, size=(100,))\n",
        "y = x * 10 + 4 + 5 * torch.normal(0, 1, size=(100,))"
      ],
      "execution_count": 39,
      "outputs": []
    },
    {
      "cell_type": "code",
      "metadata": {
        "colab": {
          "base_uri": "https://localhost:8080/",
          "height": 282
        },
        "id": "5yts9HYatJRv",
        "outputId": "a28183f0-2f01-42a4-cc65-e070b24ccaee"
      },
      "source": [
        "import matplotlib.pyplot as plt\n",
        "\n",
        "plt.scatter(x, y)"
      ],
      "execution_count": 40,
      "outputs": [
        {
          "output_type": "execute_result",
          "data": {
            "text/plain": [
              "<matplotlib.collections.PathCollection at 0x7ffaed336490>"
            ]
          },
          "metadata": {},
          "execution_count": 40
        },
        {
          "output_type": "display_data",
          "data": {
            "image/png": "[encoded data removed]",
            "text/plain": [
              "<Figure size 432x288 with 1 Axes>"
            ]
          },
          "metadata": {
            "needs_background": "light"
          }
        }
      ]
    },
    {
      "cell_type": "code",
      "metadata": {
        "colab": {
          "base_uri": "https://localhost:8080/",
          "height": 265
        },
        "id": "ZiikJ-N4tmiP",
        "outputId": "224d2261-fa68-434b-ee85-0e7144090bcf"
      },
      "source": [
        "a = torch.tensor(1.0, requires_grad=True)\n",
        "b = torch.tensor(1.0, requires_grad=True)\n",
        "\n",
        "def plot_model(q, w):\n",
        "  plt.scatter(x, y)\n",
        "  plt.scatter(x, q.detach() * x + w.detach(), color='red')\n",
        "\n",
        "plot_model(a, b)"
      ],
      "execution_count": 56,
      "outputs": [
        {
          "output_type": "display_data",
          "data": {
            "image/png": "[encoded data removed]",
            "text/plain": [
              "<Figure size 432x288 with 1 Axes>"
            ]
          },
          "metadata": {
            "needs_background": "light"
          }
        }
      ]
    },
    {
      "cell_type": "code",
      "metadata": {
        "colab": {
          "base_uri": "https://localhost:8080/"
        },
        "id": "R8bxW4ZtuxPr",
        "outputId": "626befe9-05f4-409a-ac1b-09170bd20f47"
      },
      "source": [
        "lr = 0.001\n",
        "for i in range(100):\n",
        "  error = torch.mean((x * a + b - y) ** 2)\n",
        "\n",
        "  print(error.detach())\n",
        "\n",
        "  error.backward()\n",
        "\n",
        "  with torch.no_grad():\n",
        "    a -= lr * a.grad\n",
        "    b -= lr * b.grad\n",
        "\n",
        "  a.grad.zero_()\n",
        "  b.grad.zero_()"
      ],
      "execution_count": 57,
      "outputs": [
        {
          "output_type": "stream",
          "name": "stdout",
          "text": [
            "tensor(1991.2350)\n",
            "tensor(1810.2666)\n",
            "tensor(1646.0376)\n",
            "tensor(1496.9999)\n",
            "tensor(1361.7473)\n",
            "tensor(1239.0051)\n",
            "tensor(1127.6157)\n",
            "tensor(1026.5292)\n",
            "tensor(934.7917)\n",
            "tensor(851.5392)\n",
            "tensor(775.9861)\n",
            "tensor(707.4203)\n",
            "tensor(645.1954)\n",
            "tensor(588.7248)\n",
            "tensor(537.4761)\n",
            "tensor(490.9662)\n",
            "tensor(448.7570)\n",
            "tensor(410.4502)\n",
            "tensor(375.6851)\n",
            "tensor(344.1338)\n",
            "tensor(315.4992)\n",
            "tensor(289.5114)\n",
            "tensor(265.9256)\n",
            "tensor(244.5195)\n",
            "tensor(225.0915)\n",
            "tensor(207.4586)\n",
            "tensor(191.4548)\n",
            "tensor(176.9293)\n",
            "tensor(163.7454)\n",
            "tensor(151.7789)\n",
            "tensor(140.9173)\n",
            "tensor(131.0584)\n",
            "tensor(122.1093)\n",
            "tensor(113.9860)\n",
            "tensor(106.6121)\n",
            "tensor(99.9182)\n",
            "tensor(93.8414)\n",
            "tensor(88.3247)\n",
            "tensor(83.3162)\n",
            "tensor(78.7690)\n",
            "tensor(74.6403)\n",
            "tensor(70.8914)\n",
            "tensor(67.4873)\n",
            "tensor(64.3961)\n",
            "tensor(61.5886)\n",
            "tensor(59.0389)\n",
            "tensor(56.7230)\n",
            "tensor(54.6193)\n",
            "tensor(52.7082)\n",
            "tensor(50.9718)\n",
            "tensor(49.3941)\n",
            "tensor(47.9602)\n",
            "tensor(46.6571)\n",
            "tensor(45.4724)\n",
            "tensor(44.3954)\n",
            "tensor(43.4160)\n",
            "tensor(42.5252)\n",
            "tensor(41.7149)\n",
            "tensor(40.9776)\n",
            "tensor(40.3065)\n",
            "tensor(39.6956)\n",
            "tensor(39.1392)\n",
            "tensor(38.6324)\n",
            "tensor(38.1705)\n",
            "tensor(37.7495)\n",
            "tensor(37.3654)\n",
            "tensor(37.0151)\n",
            "tensor(36.6952)\n",
            "tensor(36.4030)\n",
            "tensor(36.1360)\n",
            "tensor(35.8918)\n",
            "tensor(35.6683)\n",
            "tensor(35.4637)\n",
            "tensor(35.2761)\n",
            "tensor(35.1040)\n",
            "tensor(34.9460)\n",
            "tensor(34.8008)\n",
            "tensor(34.6672)\n",
            "tensor(34.5442)\n",
            "tensor(34.4307)\n",
            "tensor(34.3260)\n",
            "tensor(34.2291)\n",
            "tensor(34.1394)\n",
            "tensor(34.0562)\n",
            "tensor(33.9790)\n",
            "tensor(33.9071)\n",
            "tensor(33.8401)\n",
            "tensor(33.7776)\n",
            "tensor(33.7191)\n",
            "tensor(33.6642)\n",
            "tensor(33.6128)\n",
            "tensor(33.5643)\n",
            "tensor(33.5187)\n",
            "tensor(33.4755)\n",
            "tensor(33.4346)\n",
            "tensor(33.3959)\n",
            "tensor(33.3590)\n",
            "tensor(33.3238)\n",
            "tensor(33.2902)\n",
            "tensor(33.2581)\n"
          ]
        }
      ]
    },
    {
      "cell_type": "code",
      "metadata": {
        "colab": {
          "base_uri": "https://localhost:8080/",
          "height": 265
        },
        "id": "bu5ktPHLyxat",
        "outputId": "d78099fa-e52f-4a38-afa0-5ef4efbab0f7"
      },
      "source": [
        "plot_model(a, b)"
      ],
      "execution_count": 58,
      "outputs": [
        {
          "output_type": "display_data",
          "data": {
            "image/png": "[encoded data removed]",
            "text/plain": [
              "<Figure size 432x288 with 1 Axes>"
            ]
          },
          "metadata": {
            "needs_background": "light"
          }
        }
      ]
    },
    {
      "cell_type": "markdown",
      "metadata": {
        "id": "8qJ_bLMS9-TE"
      },
      "source": [
        "### 5) Non-linear regression example\n"
      ]
    },
    {
      "cell_type": "code",
      "metadata": {
        "id": "iXtaVI0L-DhD"
      },
      "source": [
        ""
      ],
      "execution_count": null,
      "outputs": []
    }
  ]
}