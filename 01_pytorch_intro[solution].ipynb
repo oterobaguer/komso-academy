{
  "nbformat": 4,
  "nbformat_minor": 0,
  "metadata": {
    "kernelspec": {
      "display_name": "Python 3",
      "language": "python",
      "name": "python3"
    },
    "language_info": {
      "codemirror_mode": {
        "name": "ipython",
        "version": 3
      },
      "file_extension": ".py",
      "mimetype": "text/x-python",
      "name": "python",
      "nbconvert_exporter": "python",
      "pygments_lexer": "ipython3",
      "version": "3.6.8"
    },
    "colab": {
      "name": "Kopie von 01-pytorch-intro.ipynb",
      "provenance": [],
      "collapsed_sections": []
    },
    "accelerator": "GPU"
  },
  "cells": [
    {
      "cell_type": "markdown",
      "metadata": {
        "id": "7bvGuyj6SKMj"
      },
      "source": [
        "# Introduction to PyTorch\n"
      ]
    },
    {
      "cell_type": "markdown",
      "metadata": {
        "id": "Q3dnQsFsSKMj"
      },
      "source": [
        "Python-based scientific computing package for two main purposes:\n",
        "\n",
        "* Replacement for **NumPy** to use the power of GPUs\n",
        "* **Deep learning** research platform that provides maximum flexibility and speed\n",
        "\n",
        "\n",
        "Sources:\n",
        "\n",
        "\n",
        "*   https://towardsdatascience.com/understanding-pytorch-with-an-example-a-step-by-step-tutorial-81fc5f8c4e8e\n",
        "*   https://pytorch.org/tutorials/beginner/blitz/autograd_tutorial.html\n",
        "\n"
      ]
    },
    {
      "cell_type": "code",
      "metadata": {
        "id": "8pYCH-TZxaLH"
      },
      "source": [
        ""
      ],
      "execution_count": null,
      "outputs": []
    },
    {
      "cell_type": "markdown",
      "metadata": {
        "id": "7GTwBGjwxUY2"
      },
      "source": [
        "### 0) NumPy reminder\n"
      ]
    },
    {
      "cell_type": "code",
      "metadata": {
        "id": "T2_ZM0zfxgpb",
        "colab": {
          "base_uri": "https://localhost:8080/"
        },
        "outputId": "e03b66c9-91bd-4dd1-b1e5-e5b40fe85013"
      },
      "source": [
        "import numpy as np\n",
        "\n",
        "x = np.array([2, 3])\n",
        "print(x)\n",
        "y = np.array([4, 9])\n",
        "print(y)\n",
        "\n",
        "print(x + y)\n",
        "print(x * y)\n",
        "\n",
        "print(np.dot(x, y))\n",
        "\n",
        "print(x**2)\n",
        "\n",
        "A = np.array([[2, 3], [4, 5]])\n",
        "print(A)"
      ],
      "execution_count": 3,
      "outputs": [
        {
          "output_type": "stream",
          "name": "stdout",
          "text": [
            "[2 3]\n",
            "[4 9]\n",
            "[ 6 12]\n",
            "[ 8 27]\n",
            "35\n",
            "[4 9]\n",
            "[[2 3]\n",
            " [4 5]]\n"
          ]
        }
      ]
    },
    {
      "cell_type": "code",
      "metadata": {
        "colab": {
          "base_uri": "https://localhost:8080/"
        },
        "id": "V_qGrotZicgR",
        "outputId": "799de56d-9e1a-4a14-cda9-a28463b78382"
      },
      "source": [
        "x = np.random.normal(size=10)\n",
        "print(x)\n",
        "\n",
        "A = np.random.normal(size=(4, 4))\n",
        "print(A)\n",
        "\n",
        "print(A**2)\n",
        "\n",
        "print(np.linalg.inv(A))"
      ],
      "execution_count": 4,
      "outputs": [
        {
          "output_type": "stream",
          "name": "stdout",
          "text": [
            "[ 1.34546067 -0.1406399  -1.66801524  0.98072097  0.83933041  0.84313753\n",
            "  0.89312139 -1.8658715  -0.17564979  1.17843379]\n",
            "[[ 0.94820077  0.29977022  1.53041344  0.29458179]\n",
            " [ 0.00613297 -0.09540204 -0.47677182  0.2166259 ]\n",
            " [ 0.01192064  0.75313925 -0.31163174  0.62640429]\n",
            " [ 0.16453774 -1.14878947  1.24425445 -0.17619843]]\n",
            "[[8.99084695e-01 8.98621834e-02 2.34216529e+00 8.67784310e-02]\n",
            " [3.76133190e-05 9.10155010e-03 2.27311369e-01 4.69267801e-02]\n",
            " [1.42101587e-04 5.67218730e-01 9.71143437e-02 3.92382333e-01]\n",
            " [2.70726686e-02 1.31971724e+00 1.54816914e+00 3.10458853e-02]]\n",
            "[[ 1.23479463  2.45924669 -1.71406108 -1.00574493]\n",
            " [ 0.10480362 -1.31850324  0.24561648 -0.57261291]\n",
            " [-0.09434208 -1.42508285  0.69098323  0.54673331]\n",
            " [-0.19644062  0.82949576  1.67748148  0.9796003 ]]\n"
          ]
        }
      ]
    },
    {
      "cell_type": "markdown",
      "metadata": {
        "id": "vMx5frqYSKMk"
      },
      "source": [
        "### 1) Basic operations"
      ]
    },
    {
      "cell_type": "code",
      "metadata": {
        "id": "XkKj-EOBSKMl",
        "colab": {
          "base_uri": "https://localhost:8080/"
        },
        "outputId": "48e2af02-4b91-424e-d590-97208c45dc58"
      },
      "source": [
        "import torch\n",
        "\n",
        "x = torch.tensor([3., 4.])\n",
        "y = torch.tensor([5., 9.])\n",
        "\n",
        "print(x + y)\n",
        "print(x - y)\n",
        "print(x ** 2)\n",
        "\n",
        "A = torch.tensor([[2., 3.], [4., 5.]])\n",
        "print(A)\n",
        "\n",
        "print(torch.matmul(A, x))"
      ],
      "execution_count": 5,
      "outputs": [
        {
          "output_type": "stream",
          "name": "stdout",
          "text": [
            "tensor([ 8., 13.])\n",
            "tensor([-2., -5.])\n",
            "tensor([ 9., 16.])\n",
            "tensor([[2., 3.],\n",
            "        [4., 5.]])\n",
            "tensor([18., 32.])\n"
          ]
        }
      ]
    },
    {
      "cell_type": "code",
      "metadata": {
        "colab": {
          "base_uri": "https://localhost:8080/"
        },
        "id": "6nvr5EGzlgyJ",
        "outputId": "e71b8d44-5913-4121-bf58-c0ed473976ca"
      },
      "source": [
        "torch.cuda.is_available()"
      ],
      "execution_count": 6,
      "outputs": [
        {
          "output_type": "execute_result",
          "data": {
            "text/plain": [
              "True"
            ]
          },
          "metadata": {},
          "execution_count": 6
        }
      ]
    },
    {
      "cell_type": "code",
      "metadata": {
        "colab": {
          "base_uri": "https://localhost:8080/"
        },
        "id": "Q7J9RfBhmOt5",
        "outputId": "778f93b3-1479-4f3f-a0fd-7388c3a874b7"
      },
      "source": [
        "print(x)\n",
        "\n",
        "x = x.to('cuda')\n",
        "y = y.to('cuda')\n",
        "\n",
        "print(x + y)"
      ],
      "execution_count": 14,
      "outputs": [
        {
          "output_type": "stream",
          "name": "stdout",
          "text": [
            "tensor([3., 4.], device='cuda:0')\n",
            "tensor([ 8., 13.], device='cuda:0')\n"
          ]
        }
      ]
    },
    {
      "cell_type": "markdown",
      "metadata": {
        "id": "EvNFlvMrSKMo"
      },
      "source": [
        "### 2) Bridge to NumPy"
      ]
    },
    {
      "cell_type": "code",
      "metadata": {
        "id": "84OXjbq_SKMo",
        "colab": {
          "base_uri": "https://localhost:8080/"
        },
        "outputId": "a2084260-036e-498d-a1ce-ed62b92cf764"
      },
      "source": [
        "a = np.array([2, 3])\n",
        "x = torch.from_numpy(a)\n",
        "print(x)\n",
        "print(x.numpy())"
      ],
      "execution_count": 18,
      "outputs": [
        {
          "output_type": "stream",
          "name": "stdout",
          "text": [
            "tensor([2, 3])\n",
            "[2 3]\n"
          ]
        }
      ]
    },
    {
      "cell_type": "markdown",
      "metadata": {
        "id": "3Y-9sMUBSKMr"
      },
      "source": [
        "### 3) Automatic Differentiation\n",
        "\n",
        "Mathematically, if you have a vector valued function $y=f(x)$, then the gradient of $y$  with respect to $x$  is a Jacobian matrix:\n",
        "\n",
        "\\begin{split}J=\\left(\\begin{array}{ccc}\n",
        " \\frac{\\partial y_{1}}{\\partial x_{1}} & \\cdots & \\frac{\\partial y_{1}}{\\partial x_{n}}\\\\\n",
        " \\vdots & \\ddots & \\vdots\\\\\n",
        " \\frac{\\partial y_{m}}{\\partial x_{1}} & \\cdots & \\frac{\\partial y_{m}}{\\partial x_{n}}\n",
        " \\end{array}\\right)\\end{split}\n",
        "\n",
        "Generally speaking, `torch.autograd` is an engine for computing vector-Jacobian product. That is, given any vector $v=\\left(\\begin{array}{cccc} v_{1} & v_{2} & \\cdots & v_{m}\\end{array}\\right)^{T}$  compute the product   $v^{T}\\cdot J$.\n",
        "\n",
        "\n",
        "If $v$ happens to be happens to be the gradient of a scalar function $l = g(y)$, that is $v=\\left(\\begin{array}{ccc}\\frac{\\partial l}{\\partial y_{1}} & \\cdots & \\frac{\\partial l}{\\partial y_{m}}\\end{array}\\right)^{T}$, then by the chain rule, the vector-Jacobian product would be the gradient of $l$ with respect to $x$:\n",
        "\n",
        "\\begin{split}J^{T}\\cdot v=\\left(\\begin{array}{ccc}\n",
        " \\frac{\\partial y_{1}}{\\partial x_{1}} & \\cdots & \\frac{\\partial y_{m}}{\\partial x_{1}}\\\\\n",
        " \\vdots & \\ddots & \\vdots\\\\\n",
        " \\frac{\\partial y_{1}}{\\partial x_{n}} & \\cdots & \\frac{\\partial y_{m}}{\\partial x_{n}}\n",
        " \\end{array}\\right)\\left(\\begin{array}{c}\n",
        " \\frac{\\partial l}{\\partial y_{1}}\\\\\n",
        " \\vdots\\\\\n",
        " \\frac{\\partial l}{\\partial y_{m}}\n",
        " \\end{array}\\right)=\\left(\\begin{array}{c}\n",
        " \\frac{\\partial l}{\\partial x_{1}}\\\\\n",
        " \\vdots\\\\\n",
        " \\frac{\\partial l}{\\partial x_{n}}\n",
        " \\end{array}\\right)\\end{split}\n"
      ]
    },
    {
      "cell_type": "code",
      "metadata": {
        "id": "F8QN3CQFSKMr",
        "colab": {
          "base_uri": "https://localhost:8080/"
        },
        "outputId": "6e9baa40-db89-4fc9-e661-4467c3b41d69"
      },
      "source": [
        "a = torch.tensor([2.0, 3.0], requires_grad=True)\n",
        "b = torch.tensor([3.0, 4.0], requires_grad=True)\n",
        "\n",
        "y = 3*a**3 - b**2\n",
        "print(y)"
      ],
      "execution_count": 26,
      "outputs": [
        {
          "output_type": "stream",
          "name": "stdout",
          "text": [
            "tensor([15., 65.], grad_fn=<SubBackward0>)\n"
          ]
        }
      ]
    },
    {
      "cell_type": "code",
      "metadata": {
        "id": "kC6TRznLqSGj"
      },
      "source": [
        "y.backward(torch.tensor([1.,1.]))"
      ],
      "execution_count": 28,
      "outputs": []
    },
    {
      "cell_type": "code",
      "metadata": {
        "colab": {
          "base_uri": "https://localhost:8080/"
        },
        "id": "9EU_DoX0qbrX",
        "outputId": "14a313c9-c9d4-48eb-f4cb-ae1752a285a0"
      },
      "source": [
        "print(a.grad == 9*a**2)\n",
        "print(b.grad == -2*b)"
      ],
      "execution_count": 29,
      "outputs": [
        {
          "output_type": "stream",
          "name": "stdout",
          "text": [
            "tensor([True, True])\n",
            "tensor([True, True])\n"
          ]
        }
      ]
    },
    {
      "cell_type": "markdown",
      "metadata": {
        "id": "BKX1k9JFSKMt"
      },
      "source": [
        "### 4) Linear regression example"
      ]
    },
    {
      "cell_type": "code",
      "metadata": {
        "id": "TTFx62iBSKMu"
      },
      "source": [
        "x = torch.normal(0, 5, size=(100,))\n",
        "y = x * 10 + 4 + 5 * torch.normal(0, 1, size=(100,))"
      ],
      "execution_count": 6,
      "outputs": []
    },
    {
      "cell_type": "code",
      "metadata": {
        "colab": {
          "base_uri": "https://localhost:8080/",
          "height": 282
        },
        "id": "5yts9HYatJRv",
        "outputId": "c411e1b0-1d1f-4d97-f326-2f9cd9869027"
      },
      "source": [
        "import matplotlib.pyplot as plt\n",
        "\n",
        "plt.scatter(x, y)"
      ],
      "execution_count": 7,
      "outputs": [
        {
          "output_type": "execute_result",
          "data": {
            "text/plain": [
              "<matplotlib.collections.PathCollection at 0x7fa3449310d0>"
            ]
          },
          "metadata": {},
          "execution_count": 7
        },
        {
          "output_type": "display_data",
          "data": {
            "image/png": "[encoded data removed]",
            "text/plain": [
              "<Figure size 432x288 with 1 Axes>"
            ]
          },
          "metadata": {
            "needs_background": "light"
          }
        }
      ]
    },
    {
      "cell_type": "code",
      "metadata": {
        "colab": {
          "base_uri": "https://localhost:8080/",
          "height": 265
        },
        "id": "ZiikJ-N4tmiP",
        "outputId": "47ac6a8a-2133-4035-ae6b-cec76601f6a3"
      },
      "source": [
        "a = torch.tensor(1.0, requires_grad=True)\n",
        "b = torch.tensor(1.0, requires_grad=True)\n",
        "\n",
        "def plot_model(q, w):\n",
        "  plt.scatter(x, y)\n",
        "  plt.scatter(x, q.detach() * x + w.detach(), color='red')\n",
        "\n",
        "plot_model(a, b)"
      ],
      "execution_count": 12,
      "outputs": [
        {
          "output_type": "display_data",
          "data": {
            "image/png": "[encoded data removed]",
            "text/plain": [
              "<Figure size 432x288 with 1 Axes>"
            ]
          },
          "metadata": {
            "needs_background": "light"
          }
        }
      ]
    },
    {
      "cell_type": "code",
      "metadata": {
        "colab": {
          "base_uri": "https://localhost:8080/"
        },
        "id": "R8bxW4ZtuxPr",
        "outputId": "02523ee4-d27a-4a8d-c08c-f1e0cff85e70"
      },
      "source": [
        "import torch.optim as optim\n",
        "\n",
        "lr = 0.001\n",
        "\n",
        "sgd = optim.SGD([a, b], lr)\n",
        "\n",
        "for i in range(100):\n",
        "  error = torch.mean((x * a + b - y) ** 2)\n",
        "\n",
        "  print(error.detach())\n",
        "\n",
        "  error.backward()\n",
        "\n",
        "  # with torch.no_grad():\n",
        "  #   a -= lr * a.grad\n",
        "  #   b -= lr * b.grad\n",
        "\n",
        "  sgd.step()\n",
        "\n",
        "  # a.grad.zero_()\n",
        "  # b.grad.zero_()\n",
        "  sgd.zero_grad()"
      ],
      "execution_count": 13,
      "outputs": [
        {
          "output_type": "stream",
          "name": "stdout",
          "text": [
            "tensor(1896.7812)\n",
            "tensor(1726.8481)\n",
            "tensor(1572.4452)\n",
            "tensor(1432.1527)\n",
            "tensor(1304.6805)\n",
            "tensor(1188.8569)\n",
            "tensor(1083.6169)\n",
            "tensor(987.9930)\n",
            "tensor(901.1061)\n",
            "tensor(822.1575)\n",
            "tensor(750.4213)\n",
            "tensor(685.2385)\n",
            "tensor(626.0096)\n",
            "tensor(572.1906)\n",
            "tensor(523.2869)\n",
            "tensor(478.8491)\n",
            "tensor(438.4689)\n",
            "tensor(401.7755)\n",
            "tensor(368.4318)\n",
            "tensor(338.1315)\n",
            "tensor(310.5965)\n",
            "tensor(285.5741)\n",
            "tensor(262.8345)\n",
            "tensor(242.1690)\n",
            "tensor(223.3880)\n",
            "tensor(206.3194)\n",
            "tensor(190.8064)\n",
            "tensor(176.7070)\n",
            "tensor(163.8920)\n",
            "tensor(152.2439)\n",
            "tensor(141.6561)\n",
            "tensor(132.0316)\n",
            "tensor(123.2825)\n",
            "tensor(115.3287)\n",
            "tensor(108.0974)\n",
            "tensor(101.5228)\n",
            "tensor(95.5447)\n",
            "tensor(90.1086)\n",
            "tensor(85.1651)\n",
            "tensor(80.6691)\n",
            "tensor(76.5797)\n",
            "tensor(72.8597)\n",
            "tensor(69.4754)\n",
            "tensor(66.3962)\n",
            "tensor(63.5941)\n",
            "tensor(61.0438)\n",
            "tensor(58.7224)\n",
            "tensor(56.6088)\n",
            "tensor(54.6842)\n",
            "tensor(52.9313)\n",
            "tensor(51.3344)\n",
            "tensor(49.8793)\n",
            "tensor(48.5529)\n",
            "tensor(47.3436)\n",
            "tensor(46.2407)\n",
            "tensor(45.2345)\n",
            "tensor(44.3160)\n",
            "tensor(43.4774)\n",
            "tensor(42.7114)\n",
            "tensor(42.0113)\n",
            "tensor(41.3711)\n",
            "tensor(40.7853)\n",
            "tensor(40.2490)\n",
            "tensor(39.7578)\n",
            "tensor(39.3074)\n",
            "tensor(38.8941)\n",
            "tensor(38.5147)\n",
            "tensor(38.1660)\n",
            "tensor(37.8452)\n",
            "tensor(37.5497)\n",
            "tensor(37.2774)\n",
            "tensor(37.0260)\n",
            "tensor(36.7937)\n",
            "tensor(36.5787)\n",
            "tensor(36.3796)\n",
            "tensor(36.1948)\n",
            "tensor(36.0230)\n",
            "tensor(35.8631)\n",
            "tensor(35.7140)\n",
            "tensor(35.5748)\n",
            "tensor(35.4445)\n",
            "tensor(35.3223)\n",
            "tensor(35.2076)\n",
            "tensor(35.0996)\n",
            "tensor(34.9977)\n",
            "tensor(34.9015)\n",
            "tensor(34.8104)\n",
            "tensor(34.7239)\n",
            "tensor(34.6416)\n",
            "tensor(34.5633)\n",
            "tensor(34.4884)\n",
            "tensor(34.4168)\n",
            "tensor(34.3481)\n",
            "tensor(34.2821)\n",
            "tensor(34.2185)\n",
            "tensor(34.1572)\n",
            "tensor(34.0980)\n",
            "tensor(34.0406)\n",
            "tensor(33.9849)\n",
            "tensor(33.9309)\n"
          ]
        }
      ]
    },
    {
      "cell_type": "code",
      "metadata": {
        "colab": {
          "base_uri": "https://localhost:8080/",
          "height": 265
        },
        "id": "bu5ktPHLyxat",
        "outputId": "6c125ed1-ecc1-4196-a266-26b301060383"
      },
      "source": [
        "plot_model(a, b)"
      ],
      "execution_count": 14,
      "outputs": [
        {
          "output_type": "display_data",
          "data": {
            "image/png": "[encoded data removed]",
            "text/plain": [
              "<Figure size 432x288 with 1 Axes>"
            ]
          },
          "metadata": {
            "needs_background": "light"
          }
        }
      ]
    },
    {
      "cell_type": "markdown",
      "metadata": {
        "id": "8qJ_bLMS9-TE"
      },
      "source": [
        "### 5) Non-linear regression example\n"
      ]
    },
    {
      "cell_type": "code",
      "metadata": {
        "id": "iXtaVI0L-DhD"
      },
      "source": [
        ""
      ],
      "execution_count": null,
      "outputs": []
    }
  ]
}