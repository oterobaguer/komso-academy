{
  "nbformat": 4,
  "nbformat_minor": 0,
  "metadata": {
    "kernelspec": {
      "display_name": "Python 3",
      "language": "python",
      "name": "python3"
    },
    "language_info": {
      "codemirror_mode": {
        "name": "ipython",
        "version": 3
      },
      "file_extension": ".py",
      "mimetype": "text/x-python",
      "name": "python",
      "nbconvert_exporter": "python",
      "pygments_lexer": "ipython3",
      "version": "3.6.8"
    },
    "colab": {
      "name": "Kopie von Kopie von 01-pytorch-intro.ipynb",
      "provenance": [],
      "collapsed_sections": []
    },
    "accelerator": "GPU"
  },
  "cells": [
    {
      "cell_type": "markdown",
      "metadata": {
        "id": "7bvGuyj6SKMj"
      },
      "source": [
        "# Introduction to PyTorch\n"
      ]
    },
    {
      "cell_type": "markdown",
      "metadata": {
        "id": "Q3dnQsFsSKMj"
      },
      "source": [
        "Python-based scientific computing package for two main purposes:\n",
        "\n",
        "* Replacement for **NumPy** to use the power of GPUs\n",
        "* **Deep learning** research platform that provides maximum flexibility and speed\n",
        "\n",
        "\n",
        "Sources:\n",
        "\n",
        "\n",
        "*   https://towardsdatascience.com/understanding-pytorch-with-an-example-a-step-by-step-tutorial-81fc5f8c4e8e\n",
        "*   https://pytorch.org/tutorials/beginner/blitz/autograd_tutorial.html\n",
        "\n"
      ]
    },
    {
      "cell_type": "code",
      "metadata": {
        "id": "8pYCH-TZxaLH"
      },
      "source": [
        ""
      ],
      "execution_count": 5,
      "outputs": []
    },
    {
      "cell_type": "markdown",
      "metadata": {
        "id": "7GTwBGjwxUY2"
      },
      "source": [
        "### 0) NumPy reminder\n"
      ]
    },
    {
      "cell_type": "code",
      "metadata": {
        "id": "T2_ZM0zfxgpb",
        "colab": {
          "base_uri": "https://localhost:8080/"
        },
        "outputId": "a6110c13-7d0d-47b7-eed2-21457fda1165"
      },
      "source": [
        "import numpy as np\n",
        "\n",
        "x = np.array([2, 3])\n",
        "print(x)\n",
        "y = np.array([4, 9])\n",
        "print(y)\n",
        "\n",
        "print(x + y)\n",
        "print(x * y)\n",
        "\n",
        "print(np.dot(x, y))\n",
        "\n",
        "print(x**2)\n",
        "\n",
        "A = np.array([[2, 3], [4, 5]])\n",
        "print(A)"
      ],
      "execution_count": 6,
      "outputs": [
        {
          "output_type": "stream",
          "name": "stdout",
          "text": [
            "[2 3]\n",
            "[4 9]\n",
            "[ 6 12]\n",
            "[ 8 27]\n",
            "35\n",
            "[4 9]\n",
            "[[2 3]\n",
            " [4 5]]\n"
          ]
        }
      ]
    },
    {
      "cell_type": "code",
      "metadata": {
        "colab": {
          "base_uri": "https://localhost:8080/"
        },
        "id": "V_qGrotZicgR",
        "outputId": "db4ab0ce-8e18-4e3c-d987-4a1f8ab7f790"
      },
      "source": [
        "x = np.random.normal(size=10)\n",
        "print(x)\n",
        "\n",
        "A = np.random.normal(size=(4, 4))\n",
        "print(A)\n",
        "\n",
        "print(A**2)\n",
        "\n",
        "print(np.linalg.inv(A))"
      ],
      "execution_count": 7,
      "outputs": [
        {
          "output_type": "stream",
          "name": "stdout",
          "text": [
            "[ 0.09841535 -0.67050515  2.15371821 -1.1330905  -0.50964782 -0.69360511\n",
            "  0.62424255 -0.89192813 -0.25184271  0.924751  ]\n",
            "[[ 0.39251591 -1.14959952 -0.10570662 -1.25918612]\n",
            " [-0.6703806   0.14711481 -0.98394683 -0.9374134 ]\n",
            " [ 0.03392595  1.38445041 -0.18246773  0.33437777]\n",
            " [ 0.21942186  0.51271531 -2.35189761  0.8354545 ]]\n",
            "[[1.54068739e-01 1.32157905e+00 1.11738886e-02 1.58554968e+00]\n",
            " [4.49410152e-01 2.16427678e-02 9.68151365e-01 8.78743891e-01]\n",
            " [1.15097038e-03 1.91670293e+00 3.32944742e-02 1.11808493e-01]\n",
            " [4.81459521e-02 2.62876991e-01 5.53142237e+00 6.97984224e-01]]\n",
            "[[ 0.96888084 -0.80775916  0.80444882  0.23197821]\n",
            " [ 0.10394189  0.07076532  0.83786614 -0.09928161]\n",
            " [-0.09271448 -0.16733786  0.07288272 -0.35666802]\n",
            " [-0.57925501 -0.30235513 -0.52030095  0.19289555]]\n"
          ]
        }
      ]
    },
    {
      "cell_type": "markdown",
      "metadata": {
        "id": "vMx5frqYSKMk"
      },
      "source": [
        "### 1) Basic operations"
      ]
    },
    {
      "cell_type": "code",
      "metadata": {
        "id": "XkKj-EOBSKMl",
        "colab": {
          "base_uri": "https://localhost:8080/"
        },
        "outputId": "f12ceff0-e77c-4df6-9b1b-a09316f027a8"
      },
      "source": [
        "import torch\n",
        "\n",
        "x = torch.tensor([3., 4.])\n",
        "y = torch.tensor([5., 9.])\n",
        "\n",
        "print(x + y)\n",
        "print(x - y)\n",
        "print(x ** 2)\n",
        "\n",
        "A = torch.tensor([[2., 3.], [4., 5.]])\n",
        "print(A)\n",
        "\n",
        "print(torch.matmul(A, x))"
      ],
      "execution_count": 8,
      "outputs": [
        {
          "output_type": "stream",
          "name": "stdout",
          "text": [
            "tensor([ 8., 13.])\n",
            "tensor([-2., -5.])\n",
            "tensor([ 9., 16.])\n",
            "tensor([[2., 3.],\n",
            "        [4., 5.]])\n",
            "tensor([18., 32.])\n"
          ]
        }
      ]
    },
    {
      "cell_type": "code",
      "metadata": {
        "colab": {
          "base_uri": "https://localhost:8080/"
        },
        "id": "6nvr5EGzlgyJ",
        "outputId": "3514b536-6de4-4681-b875-3affc234bfe7"
      },
      "source": [
        "torch.cuda.is_available()"
      ],
      "execution_count": 9,
      "outputs": [
        {
          "output_type": "execute_result",
          "data": {
            "text/plain": [
              "False"
            ]
          },
          "metadata": {},
          "execution_count": 9
        }
      ]
    },
    {
      "cell_type": "code",
      "metadata": {
        "colab": {
          "base_uri": "https://localhost:8080/"
        },
        "id": "Q7J9RfBhmOt5",
        "outputId": "f72e8017-60db-434b-afd1-abf68061c7e0"
      },
      "source": [
        "print(x)\n",
        "\n",
        "# x = x.to('cuda')\n",
        "# y = y.to('cuda')\n",
        "\n",
        "print(x + y)"
      ],
      "execution_count": 10,
      "outputs": [
        {
          "output_type": "stream",
          "name": "stdout",
          "text": [
            "tensor([3., 4.])\n",
            "tensor([ 8., 13.])\n"
          ]
        }
      ]
    },
    {
      "cell_type": "markdown",
      "metadata": {
        "id": "EvNFlvMrSKMo"
      },
      "source": [
        "### 2) Bridge to NumPy"
      ]
    },
    {
      "cell_type": "code",
      "metadata": {
        "id": "84OXjbq_SKMo",
        "colab": {
          "base_uri": "https://localhost:8080/"
        },
        "outputId": "8f908328-10c0-498e-e279-3539c9319888"
      },
      "source": [
        "a = np.array([2, 3])\n",
        "x = torch.from_numpy(a)\n",
        "print(x)\n",
        "print(x.numpy())"
      ],
      "execution_count": 11,
      "outputs": [
        {
          "output_type": "stream",
          "name": "stdout",
          "text": [
            "tensor([2, 3])\n",
            "[2 3]\n"
          ]
        }
      ]
    },
    {
      "cell_type": "markdown",
      "metadata": {
        "id": "3Y-9sMUBSKMr"
      },
      "source": [
        "### 3) Automatic Differentiation\n",
        "\n",
        "Mathematically, if you have a vector valued function $y=f(x)$, then the gradient of $y$  with respect to $x$  is a Jacobian matrix:\n",
        "\n",
        "\\begin{split}J=\\left(\\begin{array}{ccc}\n",
        " \\frac{\\partial y_{1}}{\\partial x_{1}} & \\cdots & \\frac{\\partial y_{1}}{\\partial x_{n}}\\\\\n",
        " \\vdots & \\ddots & \\vdots\\\\\n",
        " \\frac{\\partial y_{m}}{\\partial x_{1}} & \\cdots & \\frac{\\partial y_{m}}{\\partial x_{n}}\n",
        " \\end{array}\\right)\\end{split}\n",
        "\n",
        "Generally speaking, `torch.autograd` is an engine for computing vector-Jacobian product. That is, given any vector $v=\\left(\\begin{array}{cccc} v_{1} & v_{2} & \\cdots & v_{m}\\end{array}\\right)^{T}$  compute the product   $v^{T}\\cdot J$.\n",
        "\n",
        "\n",
        "If $v$ happens to be happens to be the gradient of a scalar function $l = g(y)$, that is $v=\\left(\\begin{array}{ccc}\\frac{\\partial l}{\\partial y_{1}} & \\cdots & \\frac{\\partial l}{\\partial y_{m}}\\end{array}\\right)^{T}$, then by the chain rule, the vector-Jacobian product would be the gradient of $l$ with respect to $x$:\n",
        "\n",
        "\\begin{split}J^{T}\\cdot v=\\left(\\begin{array}{ccc}\n",
        " \\frac{\\partial y_{1}}{\\partial x_{1}} & \\cdots & \\frac{\\partial y_{m}}{\\partial x_{1}}\\\\\n",
        " \\vdots & \\ddots & \\vdots\\\\\n",
        " \\frac{\\partial y_{1}}{\\partial x_{n}} & \\cdots & \\frac{\\partial y_{m}}{\\partial x_{n}}\n",
        " \\end{array}\\right)\\left(\\begin{array}{c}\n",
        " \\frac{\\partial l}{\\partial y_{1}}\\\\\n",
        " \\vdots\\\\\n",
        " \\frac{\\partial l}{\\partial y_{m}}\n",
        " \\end{array}\\right)=\\left(\\begin{array}{c}\n",
        " \\frac{\\partial l}{\\partial x_{1}}\\\\\n",
        " \\vdots\\\\\n",
        " \\frac{\\partial l}{\\partial x_{n}}\n",
        " \\end{array}\\right)\\end{split}\n"
      ]
    },
    {
      "cell_type": "code",
      "metadata": {
        "id": "F8QN3CQFSKMr",
        "colab": {
          "base_uri": "https://localhost:8080/"
        },
        "outputId": "6d1d5f7e-df21-42ef-9c0b-1e1ccf223640"
      },
      "source": [
        "a = torch.tensor([2.0, 3.0], requires_grad=True)\n",
        "b = torch.tensor([3.0, 4.0], requires_grad=True)\n",
        "\n",
        "y = 3*a**3 - b**2\n",
        "print(y)"
      ],
      "execution_count": 12,
      "outputs": [
        {
          "output_type": "stream",
          "name": "stdout",
          "text": [
            "tensor([15., 65.], grad_fn=<SubBackward0>)\n"
          ]
        }
      ]
    },
    {
      "cell_type": "code",
      "metadata": {
        "id": "kC6TRznLqSGj"
      },
      "source": [
        "y.backward(torch.tensor([1.,1.]))"
      ],
      "execution_count": 13,
      "outputs": []
    },
    {
      "cell_type": "code",
      "metadata": {
        "colab": {
          "base_uri": "https://localhost:8080/"
        },
        "id": "9EU_DoX0qbrX",
        "outputId": "4b9d0dc1-3a44-4665-f845-a4cc9bfa85e1"
      },
      "source": [
        "print(a.grad == 9*a**2)\n",
        "print(b.grad == -2*b)"
      ],
      "execution_count": 14,
      "outputs": [
        {
          "output_type": "stream",
          "name": "stdout",
          "text": [
            "tensor([True, True])\n",
            "tensor([True, True])\n"
          ]
        }
      ]
    },
    {
      "cell_type": "markdown",
      "metadata": {
        "id": "BKX1k9JFSKMt"
      },
      "source": [
        "### 4) Linear regression example"
      ]
    },
    {
      "cell_type": "code",
      "metadata": {
        "id": "TTFx62iBSKMu"
      },
      "source": [
        "x = torch.normal(0, 5, size=(100,))\n",
        "y = x * 10 + 4 + 5 * torch.normal(0, 1, size=(100,))"
      ],
      "execution_count": 15,
      "outputs": []
    },
    {
      "cell_type": "code",
      "metadata": {
        "colab": {
          "base_uri": "https://localhost:8080/",
          "height": 282
        },
        "id": "5yts9HYatJRv",
        "outputId": "46fd2033-d5d7-417b-fe24-c3f10bafb3d0"
      },
      "source": [
        "import matplotlib.pyplot as plt\n",
        "\n",
        "plt.scatter(x, y)"
      ],
      "execution_count": 16,
      "outputs": [
        {
          "output_type": "execute_result",
          "data": {
            "text/plain": [
              "<matplotlib.collections.PathCollection at 0x7f0645974d10>"
            ]
          },
          "metadata": {},
          "execution_count": 16
        },
        {
          "output_type": "display_data",
          "data": {
            "image/png": "[encoded data removed]",
            "text/plain": [
              "<Figure size 432x288 with 1 Axes>"
            ]
          },
          "metadata": {
            "needs_background": "light"
          }
        }
      ]
    },
    {
      "cell_type": "code",
      "metadata": {
        "colab": {
          "base_uri": "https://localhost:8080/",
          "height": 265
        },
        "id": "ZiikJ-N4tmiP",
        "outputId": "fe327711-b9cc-4222-8766-954f0f4b5451"
      },
      "source": [
        "a = torch.tensor(1.0, requires_grad=True)\n",
        "b = torch.tensor(1.0, requires_grad=True)\n",
        "\n",
        "def plot_model(q, w):\n",
        "  plt.scatter(x, y)\n",
        "  plt.scatter(x, q.detach() * x + w.detach(), color='red')\n",
        "\n",
        "plot_model(a, b)"
      ],
      "execution_count": 17,
      "outputs": [
        {
          "output_type": "display_data",
          "data": {
            "image/png": "[encoded data removed]",
            "text/plain": [
              "<Figure size 432x288 with 1 Axes>"
            ]
          },
          "metadata": {
            "needs_background": "light"
          }
        }
      ]
    },
    {
      "cell_type": "code",
      "metadata": {
        "colab": {
          "base_uri": "https://localhost:8080/"
        },
        "id": "R8bxW4ZtuxPr",
        "outputId": "f554bbfd-9bb1-4b35-809a-e04c2c2320b0"
      },
      "source": [
        "import torch.optim as optim\n",
        "\n",
        "lr = 0.001\n",
        "\n",
        "sgd = optim.SGD([a, b], lr)\n",
        "\n",
        "for i in range(100):\n",
        "  error = torch.mean((x * a + b - y) ** 2)\n",
        "\n",
        "  print(error.detach())\n",
        "\n",
        "  error.backward()\n",
        "\n",
        "  # with torch.no_grad():\n",
        "  #   a -= lr * a.grad\n",
        "  #   b -= lr * b.grad\n",
        "\n",
        "  sgd.step()\n",
        "\n",
        "  # a.grad.zero_()\n",
        "  # b.grad.zero_()\n",
        "  sgd.zero_grad()"
      ],
      "execution_count": 18,
      "outputs": [
        {
          "output_type": "stream",
          "name": "stdout",
          "text": [
            "tensor(1604.5720)\n",
            "tensor(1480.4678)\n",
            "tensor(1366.1764)\n",
            "tensor(1260.9218)\n",
            "tensor(1163.9888)\n",
            "tensor(1074.7197)\n",
            "tensor(992.5084)\n",
            "tensor(916.7966)\n",
            "tensor(847.0705)\n",
            "tensor(782.8564)\n",
            "tensor(723.7186)\n",
            "tensor(669.2556)\n",
            "tensor(619.0976)\n",
            "tensor(572.9043)\n",
            "tensor(530.3621)\n",
            "tensor(491.1821)\n",
            "tensor(455.0986)\n",
            "tensor(421.8666)\n",
            "tensor(391.2606)\n",
            "tensor(363.0730)\n",
            "tensor(337.1124)\n",
            "tensor(313.2029)\n",
            "tensor(291.1822)\n",
            "tensor(270.9008)\n",
            "tensor(252.2213)\n",
            "tensor(235.0170)\n",
            "tensor(219.1712)\n",
            "tensor(204.5765)\n",
            "tensor(191.1340)\n",
            "tensor(178.7524)\n",
            "tensor(167.3480)\n",
            "tensor(156.8435)\n",
            "tensor(147.1676)\n",
            "tensor(138.2550)\n",
            "tensor(130.0451)\n",
            "tensor(122.4825)\n",
            "tensor(115.5160)\n",
            "tensor(109.0984)\n",
            "tensor(103.1863)\n",
            "tensor(97.7398)\n",
            "tensor(92.7220)\n",
            "tensor(88.0991)\n",
            "tensor(83.8397)\n",
            "tensor(79.9153)\n",
            "tensor(76.2992)\n",
            "tensor(72.9672)\n",
            "tensor(69.8968)\n",
            "tensor(67.0672)\n",
            "tensor(64.4594)\n",
            "tensor(62.0560)\n",
            "tensor(59.8407)\n",
            "tensor(57.7986)\n",
            "tensor(55.9162)\n",
            "tensor(54.1807)\n",
            "tensor(52.5806)\n",
            "tensor(51.1052)\n",
            "tensor(49.7445)\n",
            "tensor(48.4896)\n",
            "tensor(47.3321)\n",
            "tensor(46.2643)\n",
            "tensor(45.2790)\n",
            "tensor(44.3699)\n",
            "tensor(43.5307)\n",
            "tensor(42.7562)\n",
            "tensor(42.0410)\n",
            "tensor(41.3806)\n",
            "tensor(40.7707)\n",
            "tensor(40.2071)\n",
            "tensor(39.6864)\n",
            "tensor(39.2050)\n",
            "tensor(38.7599)\n",
            "tensor(38.3483)\n",
            "tensor(37.9674)\n",
            "tensor(37.6149)\n",
            "tensor(37.2885)\n",
            "tensor(36.9862)\n",
            "tensor(36.7061)\n",
            "tensor(36.4464)\n",
            "tensor(36.2055)\n",
            "tensor(35.9819)\n",
            "tensor(35.7743)\n",
            "tensor(35.5815)\n",
            "tensor(35.4022)\n",
            "tensor(35.2353)\n",
            "tensor(35.0800)\n",
            "tensor(34.9353)\n",
            "tensor(34.8004)\n",
            "tensor(34.6745)\n",
            "tensor(34.5568)\n",
            "tensor(34.4469)\n",
            "tensor(34.3439)\n",
            "tensor(34.2475)\n",
            "tensor(34.1571)\n",
            "tensor(34.0722)\n",
            "tensor(33.9924)\n",
            "tensor(33.9173)\n",
            "tensor(33.8466)\n",
            "tensor(33.7798)\n",
            "tensor(33.7167)\n",
            "tensor(33.6571)\n"
          ]
        }
      ]
    },
    {
      "cell_type": "code",
      "metadata": {
        "colab": {
          "base_uri": "https://localhost:8080/",
          "height": 265
        },
        "id": "bu5ktPHLyxat",
        "outputId": "73f16c4e-87f0-4190-844a-2d5de3884c9c"
      },
      "source": [
        "plot_model(a, b)"
      ],
      "execution_count": 19,
      "outputs": [
        {
          "output_type": "display_data",
          "data": {
            "image/png": "[encoded data removed]",
            "text/plain": [
              "<Figure size 432x288 with 1 Axes>"
            ]
          },
          "metadata": {
            "needs_background": "light"
          }
        }
      ]
    },
    {
      "cell_type": "markdown",
      "metadata": {
        "id": "8qJ_bLMS9-TE"
      },
      "source": [
        "### 5) Non-linear regression example\n"
      ]
    },
    {
      "cell_type": "code",
      "metadata": {
        "id": "iXtaVI0L-DhD",
        "colab": {
          "base_uri": "https://localhost:8080/",
          "height": 282
        },
        "outputId": "c92b5789-7d2c-49f2-93ea-c441537d102d"
      },
      "source": [
        "n = 100\n",
        "x = torch.rand(n, 1) * 20\n",
        "y = 10 * torch.sin(x) + x\n",
        "y += torch.randn(y.shape)\n",
        "\n",
        "plt.scatter(x, y)"
      ],
      "execution_count": 21,
      "outputs": [
        {
          "output_type": "execute_result",
          "data": {
            "text/plain": [
              "<matplotlib.collections.PathCollection at 0x7f0645403b90>"
            ]
          },
          "metadata": {},
          "execution_count": 21
        },
        {
          "output_type": "display_data",
          "data": {
            "image/png": "[encoded data removed]",
            "text/plain": [
              "<Figure size 432x288 with 1 Axes>"
            ]
          },
          "metadata": {
            "needs_background": "light"
          }
        }
      ]
    },
    {
      "cell_type": "code",
      "metadata": {
        "id": "qgtRHvAkbNu3",
        "colab": {
          "base_uri": "https://localhost:8080/",
          "height": 265
        },
        "outputId": "4121362d-1387-49c2-95a3-36c54e365dd9"
      },
      "source": [
        "import torch.nn as nn\n",
        "\n",
        "\n",
        "def plot_model(model):\n",
        "    plt.scatter(x, y)\n",
        "    plt.scatter(x, model(x).detach(), color='red')\n",
        "\n",
        "\n",
        "model = nn.Sequential(nn.Linear(1, 100), \n",
        "                      nn.Tanh(),\n",
        "                      nn.Linear(100, 1))\n",
        "\n",
        "plot_model(model)"
      ],
      "execution_count": 22,
      "outputs": [
        {
          "output_type": "display_data",
          "data": {
            "image/png": "[encoded data removed]",
            "text/plain": [
              "<Figure size 432x288 with 1 Axes>"
            ]
          },
          "metadata": {
            "needs_background": "light"
          }
        }
      ]
    },
    {
      "cell_type": "code",
      "metadata": {
        "id": "wB_UdEwqbS4x",
        "colab": {
          "base_uri": "https://localhost:8080/"
        },
        "outputId": "56e28dd9-0b45-4328-f605-632dfe780d0e"
      },
      "source": [
        "from torch.optim import Adam\n",
        "\n",
        "lr = 0.01\n",
        "optimizer = Adam(model.parameters(), lr=lr)\n",
        "\n",
        "for i in range(5000):\n",
        "    f = model(x)\n",
        "\n",
        "    loss = torch.sum((f - y) ** 2)\n",
        "\n",
        "    \n",
        "    loss.backward()\n",
        "    optimizer.step()\n",
        "    optimizer.zero_grad()\n",
        "\n",
        "    if i % 1000 == 0:\n",
        "        print(loss.item())"
      ],
      "execution_count": 23,
      "outputs": [
        {
          "output_type": "stream",
          "name": "stdout",
          "text": [
            "18561.515625\n",
            "2764.34619140625\n",
            "87.85774993896484\n",
            "60.583953857421875\n",
            "61.534481048583984\n"
          ]
        }
      ]
    },
    {
      "cell_type": "code",
      "metadata": {
        "id": "_K4qNCXAbYhC",
        "colab": {
          "base_uri": "https://localhost:8080/",
          "height": 267
        },
        "outputId": "1cdda561-4e46-40cc-84bf-44ee18f12f5b"
      },
      "source": [
        "plot_model(model)"
      ],
      "execution_count": 24,
      "outputs": [
        {
          "output_type": "display_data",
          "data": {
            "image/png": "[encoded data removed]",
            "text/plain": [
              "<Figure size 432x288 with 1 Axes>"
            ]
          },
          "metadata": {
            "needs_background": "light"
          }
        }
      ]
    }
  ]
}